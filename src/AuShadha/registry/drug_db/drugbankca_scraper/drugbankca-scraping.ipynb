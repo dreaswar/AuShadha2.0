{
 "metadata": {
  "name": "",
  "signature": "sha256:a2fc66489c957eddfda603040ce5f6b4ca2b8e7a83cda41c4ce87a4841e10a60"
 },
 "nbformat": 3,
 "nbformat_minor": 0,
 "worksheets": [
  {
   "cells": [
    {
     "cell_type": "heading",
     "level": 1,
     "metadata": {},
     "source": [
      "DRUGBANKCA SCRAPER"
     ]
    },
    {
     "cell_type": "heading",
     "level": 3,
     "metadata": {},
     "source": [
      "CONTENTS"
     ]
    },
    {
     "cell_type": "markdown",
     "metadata": {},
     "source": [
      "- [1. SET-UP & INITIALISATION](#1.-SET-UP-&-INITIALISATION)\n",
      "- [2. COMPILE/LOAD ID LIST](#2.-COMPILE/LOAD-ID-LIST)\n",
      "- [3. DOWNLOAD PAGE DOC'S](#3.-DOWNLOAD-PAGE-DOC'S)\n",
      "- [4. EXTRACT TABLES](#4.-EXTRACT-TABLES)\n",
      "- [5. DRUG TABLES GENERATOR](#5.-DRUG-TABLES-GENERATOR)\n",
      "- [6. EXCLUDING DRUG TABLES](#6.-EXCLUDING-DRUG-TABLES)\n",
      "- [7. DATA COLLECTION AND FIXTURES](#7.-DATA-COLLECTION-AND-FIXTURES)\n",
      "- [8. SET UP TABLE SECTION CULLING](#8.-SET-UP-TABLE-SECTION-CULLING)\n",
      "- [9. CUSTOM CULLING AND PRE-CULL CHECK](#9.-CUSTOM-CULLING-AND-PRE-CULL-CHECK)\n",
      "- [10. CULL ALL TABLES](#10.-CULL-ALL-TABLES)\n",
      "- [11. ZIP CULLED TABLES](#11.-ZIP-CULLED-TABLES)\n",
      "- [12. EXAMPLE CODE FOR EXTRACTING A DRUG TABLE FROM THE ZIP FILE](#12.-EXAMPLE-CODE-FOR-EXTRACTING-A-DRUG-TABLE-FROM-THE-ZIP-FILE)\n",
      "- [13. Django App for Testing Drugbank Lookup's](#13.-Django-App-for-Testing-Drugbank-Lookup%27s)\n",
      "- [14. SUPPORT CODE - **RUN FIRST!**](#14.-SUPPORT-CODE---RUN-FIRST!)"
     ]
    },
    {
     "cell_type": "markdown",
     "metadata": {},
     "source": [
      "<p style=\"text-align: center; background-color: lightgrey; color: black\">-----------------------------------------------------------------------------------------------------------------------------------------------------------------------------------------------\n",
      "</p>"
     ]
    },
    {
     "cell_type": "heading",
     "level": 1,
     "metadata": {},
     "source": [
      "1. SET-UP & INITIALISATION"
     ]
    },
    {
     "cell_type": "markdown",
     "metadata": {},
     "source": [
      "CLICK THIS LINK AND EXECUTE THE CELL BEFORE RETURNING HERE: [14. SUPPORT CODE - **RUN FIRST!**](#14.-SUPPORT-CODE---RUN-FIRST!)\n",
      "\n",
      "Scraping in this instance consists of three main steps:\n",
      "\n",
      "- Download Drugbank web documents (\"full_docs\")\n",
      "- Extract drug tables (\"full_tables\")\n",
      "- Cull unwanted sections from tables (\"culled_tables\")\n",
      "\n",
      "Drugbank ID's are used for file names so a Django fixture is also created to map drug names to drugbank ID's so that other AuShadha app's don't need to know the ID's (drug names would make unsuitable file names).\n",
      "\n",
      "In the current version of AuShadha the Drugbank tables are simply referenced as a chunks of HTML without any further processing. To save disk space the culled tables are zipped up and demo code is provided in this notebook to show how to read a drug table directly from the zip file.\n",
      "\n",
      "The next cell provides an opportunity to change default default directory and file names. The defaults are...\n",
      "\n",
      "- data/\n",
      "    - full_docs/\n",
      "    - full_tables/\n",
      "    - culled_tables/\n",
      "    - drugbankca_tables.zip\n",
      "    - DrugBankCaDrugs.json\n",
      "    - DrugBankCaDrugs.json.gz\n",
      "\n",
      "\"full_docs\" is not needed if \"full_tables\" has been supplied as a zip file (unzip it if that's the case). \"culled_tables\" will be zipped to \"drugbankca_tables.zip\".\n",
      "\n",
      "If you wish to customise any of the defaults then do so in the next cell and execute the cell before proceeding. The name of the fixtures file is specified in section 7."
     ]
    },
    {
     "cell_type": "code",
     "collapsed": false,
     "input": [
      "# data_dir() and data_file() use DATA_DIR and help construct OS specific paths\n",
      "\n",
      "DATA_DIR = \"data\"\n",
      "\n",
      "FULL_DOCS_DIR     = data_dir(\"full_docs\")\n",
      "FULL_TABLES_DIR   = data_dir(\"full_tables\")\n",
      "CULLED_TABLES_DIR = data_dir(\"culled_tables\")\n",
      "\n",
      "DRUG_TABLES_ZIP   = data_file(\"drugbankca_tables.zip\")"
     ],
     "language": "python",
     "metadata": {},
     "outputs": []
    },
    {
     "cell_type": "markdown",
     "metadata": {},
     "source": [
      "<p style=\"text-align: center; background-color: lightgrey; color: black\">-----------------------------------------------------------------------------------------------------------------------------------------------------------------------------------------------\n",
      "</p>"
     ]
    },
    {
     "cell_type": "heading",
     "level": 1,
     "metadata": {},
     "source": [
      "2. COMPILE/LOAD ID LIST"
     ]
    },
    {
     "cell_type": "markdown",
     "metadata": {},
     "source": [
      "DrugbankCA drug pages are indexed by ID's of the format \"DBnnnnn\", eg, \"DB00001\". To avoid an unbounded trawl a list of ID's has been extracted from DrugbankCA's XML database. This list is stored as \"drugbankca_xml_ids.txt\". However, the definitive list of ID's for current purposes is derived from the directory contents of either the \"full_docs\" or \"full_tables\" directories."
     ]
    },
    {
     "cell_type": "code",
     "collapsed": false,
     "input": [
      "# The ID list can be loaded/created from several sources:\n",
      "#\n",
      "#load_id_list(\"drugbankca_xml_ids.txt\")\n",
      "#create_id_list_from_full_docs()\n",
      "#create_id_list_from_full_tables()\n",
      "\n",
      "create_id_list() # attempts each source in reverse order of above\n",
      "analyse_id_list()\n"
     ],
     "language": "python",
     "metadata": {},
     "outputs": []
    },
    {
     "cell_type": "markdown",
     "metadata": {},
     "source": [
      "<p style=\"text-align: center; background-color: lightgrey; color: black\">-----------------------------------------------------------------------------------------------------------------------------------------------------------------------------------------------\n",
      "</p>"
     ]
    },
    {
     "cell_type": "heading",
     "level": 1,
     "metadata": {},
     "source": [
      "3. DOWNLOAD PAGE DOC'S"
     ]
    },
    {
     "cell_type": "markdown",
     "metadata": {},
     "source": [
      "For expediancy the downloading of \"full_docs\" has already been performed externally using \"wget\". This was done in several concurrent batches and at a time when hopefully it did not affect other users of the DrugbankCA site. Still, given the number of documents this was a time consuming process and should not be repeated if possible. As should be clear in the next section, having separated table extraction from any further processing, there is no need to trawl DrugbankCA's site or perform table extraction again if you have already been supplied with the \"full_tables\" dir/zip."
     ]
    },
    {
     "cell_type": "markdown",
     "metadata": {},
     "source": [
      "<p style=\"text-align: center; background-color: lightgrey; color: black\">-----------------------------------------------------------------------------------------------------------------------------------------------------------------------------------------------\n",
      "</p>"
     ]
    },
    {
     "cell_type": "heading",
     "level": 1,
     "metadata": {},
     "source": [
      "4. EXTRACT TABLES"
     ]
    },
    {
     "cell_type": "markdown",
     "metadata": {},
     "source": [
      "<p style=\"color: red\">**This section may be skipped if \"full_tables\" is already supplied (dir/zip file).**</p>\n",
      "\n",
      "AuShadha only requires the drug table from each full doc. These tables are extracted and stored in \"full_tables/\". They are called \"full\" because sections may later be culled. Any further processing will then be performed on this set so that there is no dependancy remaining on \"full_docs/\" (so \"full_docs/\" can be deleted after this stage if you want to recover some disk space).\n",
      "\n",
      "**Note:** Errors at this stage are likely to be DrugbankCA pages for \"revoked\" drugs which don't contain the usual table. These are later excluded. Also, only four redirected pages were discovered so given this low number it was decided to simply copy the tables rather than implement redirection here."
     ]
    },
    {
     "cell_type": "code",
     "collapsed": false,
     "input": [
      "redirects = []\n",
      "total = len(drugbank_ids)\n",
      "for i,drug_id in enumerate(drugbank_ids):\n",
      "    #display_count(total-i)\n",
      "    if open_full_doc(drug_id):\n",
      "        if is_redirected:\n",
      "            redirects.append((drug_id, real_doc_id))\n",
      "        save_full_table()\n",
      "print \"Redirects:\",len(redirects)"
     ],
     "language": "python",
     "metadata": {},
     "outputs": []
    },
    {
     "cell_type": "markdown",
     "metadata": {},
     "source": [
      "<p style=\"text-align: center; background-color: lightgrey; color: black\">-----------------------------------------------------------------------------------------------------------------------------------------------------------------------------------------------\n",
      "</p>"
     ]
    },
    {
     "cell_type": "heading",
     "level": 1,
     "metadata": {},
     "source": [
      "5. DRUG TABLES GENERATOR"
     ]
    },
    {
     "cell_type": "markdown",
     "metadata": {},
     "source": [
      "For the purposes of this notebook \"drug tables\" will now refer to \"full_tables\" and a generator function \"drug_tables()\" has been provided for convenient scanning of drug tables whilst also providing visual progress feedback. \n",
      "\n",
      "The first example is a quick scan through all drug tables without feedback to see if any errors are encountered (enabling feedback would mask any errors)..."
     ]
    },
    {
     "cell_type": "code",
     "collapsed": false,
     "input": [
      "for drug_id in drug_tables(feedback=False):\n",
      "    pass"
     ],
     "language": "python",
     "metadata": {},
     "outputs": []
    },
    {
     "cell_type": "markdown",
     "metadata": {},
     "source": [
      "The generator also allows you to limit the number of tables scanned for testing purposes but note that some data may only be derived from the full set of tables and would therefore be incomplete for a limited test set scan. \n",
      "\n",
      "The following is simply an example of how to use the generator, in this case the min/max drug name length for the first 200 tables with feedback. Since scanning all tables can be time consuming you might want to remove the limit and time this example with/without feedback to get an idea of how long a full scan takes on your system (on mine ~60s with feedback, ~30s without feedback)."
     ]
    },
    {
     "cell_type": "code",
     "collapsed": false,
     "input": [
      "%%timeit -n1 -r1\n",
      "\n",
      "min_name_len, max_name_len = 32576, 0\n",
      "\n",
      "for drug_id in drug_tables(limit=200, feedback=True):\n",
      "    name_len = len(drug_name)\n",
      "    #print drug_name[:30], name_len\n",
      "    min_name_len = min(min_name_len, name_len)\n",
      "    max_name_len = max(max_name_len, name_len)\n",
      "    \n",
      "print \"min, max: \",min_name_len, max_name_len\n",
      "print"
     ],
     "language": "python",
     "metadata": {},
     "outputs": []
    },
    {
     "cell_type": "markdown",
     "metadata": {},
     "source": [
      "<p style=\"text-align: center; background-color: lightgrey; color: black\">-----------------------------------------------------------------------------------------------------------------------------------------------------------------------------------------------\n",
      "</p>"
     ]
    },
    {
     "cell_type": "heading",
     "level": 1,
     "metadata": {},
     "source": [
      "6. EXCLUDING DRUG TABLES"
     ]
    },
    {
     "cell_type": "markdown",
     "metadata": {},
     "source": [
      "A small number of drugs are marked as \"revoked\" in DrugbankCA's database and their table format differs from the majority causing errors. Given their status it has been decided to exclude these drugs rather than code around them. The next cell performs the exclusion and forms one of two examples in this section of how you might perform your own custom exclusions. Note that in this first example the drugs are actually excluded where as the second example stops short of excluding.\n",
      "\n",
      "(\"exclusion\" should not to be mistaken for \"culling\" which is explained later)"
     ]
    },
    {
     "cell_type": "code",
     "collapsed": false,
     "input": [
      "drugbank_id_set = set(drugbank_ids) # intermediate var for safety (\"set\" for easy subtraction)\n",
      "\n",
      "for drug_id in drug_tables(feedback=False):\n",
      "    if bad_table_id:\n",
      "        drugbank_id_set -= {bad_table_id}\n",
      "        \n",
      "drugbank_ids = sorted(list(drugbank_id_set)) # Only update \"drugbank_ids\" if sure!"
     ],
     "language": "python",
     "metadata": {},
     "outputs": []
    },
    {
     "cell_type": "markdown",
     "metadata": {},
     "source": [
      "<p style=\"color: red\">**This section may now be skipped if you want to keep all drug tables.**</p>\n",
      "\n",
      "Since the \"drugbank_ids\" list contains all ID's and is used by the \"drug_tables()\" generator then any ID's removed from this list means the corresponding tables are excluded by default. The mechanism for choosing which ID's to exclude depends on your particular criteria and can be defined manually or via code as long as the resulting ID's are subtracted from \"drugbank_ids\". This can easily be done using **set operations** as in the following example (here \"drugbank_ids\" is left intact):"
     ]
    },
    {
     "cell_type": "code",
     "collapsed": false,
     "input": [
      "drugbank_id_set = set(drugbank_ids) # intermediate var for safety (\"set\" for easy subtraction)\n",
      "\n",
      "for drug_id in drug_tables():\n",
      "    if 'experimental' in drug_groups:\n",
      "        drugbank_id_set -= {drug_id}\n",
      "        \n",
      "print \"{} out of {} would be excluded\".format(len(drugbank_ids)-len(drugbank_id_set), len(drugbank_ids))\n",
      "\n",
      "#drugbank_ids = sorted(list(drugbank_id_set)) # Only update \"drugbank_ids\" if sure!"
     ],
     "language": "python",
     "metadata": {},
     "outputs": []
    },
    {
     "cell_type": "markdown",
     "metadata": {},
     "source": [
      "<p style=\"text-align: center; background-color: lightgrey; color: black\">-----------------------------------------------------------------------------------------------------------------------------------------------------------------------------------------------\n",
      "</p>"
     ]
    },
    {
     "cell_type": "heading",
     "level": 1,
     "metadata": {},
     "source": [
      "7. DATA COLLECTION AND FIXTURES"
     ]
    },
    {
     "cell_type": "markdown",
     "metadata": {},
     "source": [
      "For some operations various data needs to be collected across all tables. This is done here in a single scan to avoid unnecessary repetitions. Currently this includes compiling a list of drug name-to-id mappings that are then used to create fixtures to populate an AuShadha database table. **You can change the fixture model name here in the call to \"create_lookup_fixture()\" below.***\n",
      "\n",
      "Note: this stage should ideally also collect a full list of table sections from all tables, since not all tables contain all sections. Removed due to recent changes but sections for individual tables can easily be viewed (see later). "
     ]
    },
    {
     "cell_type": "code",
     "collapsed": false,
     "input": [
      "name_id_map = []\n",
      "section_names = set()\n",
      "\n",
      "for drug_id in drug_tables(feedback=False):\n",
      "    if bad_table_id: print bad_table_id\n",
      "    name_id_map.append(drug_name_id)\n",
      "\n",
      "create_lookup_fixture('drugbankca.DrugBankCaDrugs')"
     ],
     "language": "python",
     "metadata": {},
     "outputs": []
    },
    {
     "cell_type": "code",
     "collapsed": false,
     "input": [
      "if open_full_table(1287):\n",
      "    view_doc()"
     ],
     "language": "python",
     "metadata": {},
     "outputs": []
    },
    {
     "cell_type": "markdown",
     "metadata": {},
     "source": [
      "<p style=\"text-align: center; background-color: lightgrey; color: black\">-----------------------------------------------------------------------------------------------------------------------------------------------------------------------------------------------\n",
      "</p>"
     ]
    },
    {
     "cell_type": "heading",
     "level": 1,
     "metadata": {},
     "source": [
      "8. SET UP TABLE SECTION CULLING"
     ]
    },
    {
     "cell_type": "markdown",
     "metadata": {},
     "source": [
      "Not all sections in each table are needed for AuShadha. When a table is opened all the main sections and sub-sections are collected. A naming convention has been created with the format \"main-section\" or \"main-section/sub-section\". This makes it easy to make selections for culling. Names without a \"/\" refer to whole sections while names with a '/' refer to one sub-section. \n",
      "\n",
      "Note that only these two levels are supported. The next section contains an example of how to cull deeper table structures.\n",
      "\n",
      "Certain data is extracted when a table document is opened so that it can be immediately viewed/used. One such item of data is the complete set of section-paths as described above and which is stored in \"table_section paths\" variable. Selections from this list should added to the cull list in the cell following..."
     ]
    },
    {
     "cell_type": "code",
     "collapsed": false,
     "input": [
      "if open_full_table(1287):\n",
      "    table_section_paths"
     ],
     "language": "python",
     "metadata": {},
     "outputs": []
    },
    {
     "cell_type": "markdown",
     "metadata": {},
     "source": [
      "Remember to execute this cell after adding entries from \"table-section_paths\"..."
     ]
    },
    {
     "cell_type": "code",
     "collapsed": false,
     "input": [
      "cull_list = [\n",
      " 'Pharmacoeconomics/Prices', \n",
      " 'Pharmacoeconomics/Patents', \n",
      " 'Properties', \n",
      " 'References', \n",
      "]"
     ],
     "language": "python",
     "metadata": {},
     "outputs": []
    },
    {
     "cell_type": "heading",
     "level": 1,
     "metadata": {},
     "source": [
      "9. CUSTOM CULLING AND PRE-CULL CHECK"
     ]
    },
    {
     "cell_type": "markdown",
     "metadata": {},
     "source": [
      "To accommodate deeper culling than section/sub-section a global is defined called \"custom_cull_func\". This should be set to a user defined function as shown in the next cell. It will be called by the main culling function for every table right after sections have been culled. This is a simple mechanism that suffices for now.\n",
      "\n",
      "**HINTS**: \n",
      "\n",
      "- If the custom culling doesn't appear to work then try rearranging your code to cull in reverse, ie, cull elements from lowest in the table to highest (the theory being the order of elements higher up is preserved).\n",
      "\n",
      "\n",
      "- To be more specific/restrictive use: table_sections[\"section/subsection\"].xpath(\"whatever\")\n",
      "\n",
      "Here is a custom culling function to target \"Pharmacology/Pathways/\"something-inbetween\"/SMPDB ID\"..."
     ]
    },
    {
     "cell_type": "code",
     "collapsed": false,
     "input": [
      "# Custom: Pharmacology/Pathways/SMPDB ID\n",
      "def cull_pathways_smpdb_id():\n",
      "    try:\n",
      "        drug_table_doc.xpath(\"//table[@id='pathways']//thead//tr[1]//th[3]\")[0].drop_tree()\n",
      "        drug_table_doc.xpath(\"//table[@id='pathways']//tbody//tr[1]//td[3]\")[0].drop_tree()\n",
      "    except:\n",
      "        pass\n",
      "    \n",
      "custom_cull_func = cull_pathways_smpdb_id"
     ],
     "language": "python",
     "metadata": {},
     "outputs": []
    },
    {
     "cell_type": "markdown",
     "metadata": {},
     "source": [
      "<p style=\"color: red\">**CHECK CULLING WORKS HERE AND IF SOMETHING LOOKS ODD THEN CHECK THE HTML SOURCE IN CELL FOLLOWING...**</p>"
     ]
    },
    {
     "cell_type": "code",
     "collapsed": false,
     "input": [
      "if open_full_table(1287):\n",
      "    cull_sections(cull_list)\n",
      "    view_doc()"
     ],
     "language": "python",
     "metadata": {},
     "outputs": []
    },
    {
     "cell_type": "code",
     "collapsed": false,
     "input": [
      "view_src()"
     ],
     "language": "python",
     "metadata": {},
     "outputs": []
    },
    {
     "cell_type": "markdown",
     "metadata": {},
     "source": [
      "<p style=\"text-align: center; background-color: lightgrey; color: black\">-----------------------------------------------------------------------------------------------------------------------------------------------------------------------------------------------\n",
      "</p>"
     ]
    },
    {
     "cell_type": "heading",
     "level": 1,
     "metadata": {},
     "source": [
      "10. CULL ALL TABLES"
     ]
    },
    {
     "cell_type": "markdown",
     "metadata": {},
     "source": [
      "The next cell will perform the culling on all tables, saving the results to \"culled_tables\". The cell after it can be used to check a **culled** table."
     ]
    },
    {
     "cell_type": "code",
     "collapsed": false,
     "input": [
      "cull_tables()"
     ],
     "language": "python",
     "metadata": {},
     "outputs": []
    },
    {
     "cell_type": "code",
     "collapsed": false,
     "input": [
      "if open_culled_table(1287):\n",
      "    view_doc()"
     ],
     "language": "python",
     "metadata": {},
     "outputs": []
    },
    {
     "cell_type": "markdown",
     "metadata": {},
     "source": [
      "<p style=\"text-align: center; background-color: lightgrey; color: black\">-----------------------------------------------------------------------------------------------------------------------------------------------------------------------------------------------\n",
      "</p>"
     ]
    },
    {
     "cell_type": "heading",
     "level": 1,
     "metadata": {},
     "source": [
      "11. ZIP CULLED TABLES"
     ]
    },
    {
     "cell_type": "markdown",
     "metadata": {},
     "source": [
      "To save **significant** disk space culled tables can be stored in a zip file and directly accessed from the zip file in AuShadha. The first cell below creates the zip file, the second calls a function that reads a drug table directly from the zip file and returns a string. "
     ]
    },
    {
     "cell_type": "code",
     "collapsed": false,
     "input": [
      "create_drug_table_zip()"
     ],
     "language": "python",
     "metadata": {},
     "outputs": []
    },
    {
     "cell_type": "code",
     "collapsed": false,
     "input": [
      "read_drug_table_from_zip(1287)"
     ],
     "language": "python",
     "metadata": {},
     "outputs": []
    },
    {
     "cell_type": "heading",
     "level": 1,
     "metadata": {},
     "source": [
      "12. EXAMPLE CODE FOR EXTRACTING A DRUG TABLE FROM THE ZIP FILE"
     ]
    },
    {
     "cell_type": "markdown",
     "metadata": {},
     "source": [
      "The next cell contains an extract from \"read_drug_table_from_zip()\" to demonstrate the small amount of code needed in AuShadha to make use of the zip file..."
     ]
    },
    {
     "cell_type": "code",
     "collapsed": false,
     "input": [
      "z = ZipFile(DRUG_TABLES_ZIP)\n",
      "f = z.open('DB00034')\n",
      "s = f.read()\n",
      "f.close()\n",
      "z.close()\n",
      "s"
     ],
     "language": "python",
     "metadata": {},
     "outputs": []
    },
    {
     "cell_type": "markdown",
     "metadata": {},
     "source": [
      "<p style=\"text-align: center; background-color: lightgrey; color: black\">-----------------------------------------------------------------------------------------------------------------------------------------------------------------------------------------------\n",
      "</p>"
     ]
    },
    {
     "cell_type": "heading",
     "level": 1,
     "metadata": {},
     "source": [
      "13. Django App for Testing Drugbank Lookup's"
     ]
    },
    {
     "cell_type": "markdown",
     "metadata": {},
     "source": [
      "A simple test app has been provided. Simply unzip \"drugbankca_test_app.zip\" in place, open a terminal in the \"drugbankca\" directory and use the command \"./runserver.sh\". Links will be made to existing data and a sqlite database created and populated (sqlite is used for convenience/independence).\n",
      "\n",
      "The test app presents a random list of drug names that can be regenerated with a page refresh. Each name is a link that invokes a lookup using the drug name and returns the associated DrugbankCA drug table. Although \"simple\" the app fully demonstrates that the variety of drug names is handled and how to read individual drug tables from the zip file.\n",
      "\n",
      "When you are finished with the test app simply delete the \"drugbankca\" directory."
     ]
    },
    {
     "cell_type": "markdown",
     "metadata": {},
     "source": [
      "<p style=\"text-align: center; background-color: lightgrey; color: black\">-----------------------------------------------------------------------------------------------------------------------------------------------------------------------------------------------\n",
      "</p>"
     ]
    },
    {
     "cell_type": "heading",
     "level": 1,
     "metadata": {},
     "source": [
      "14. SUPPORT CODE - **RUN FIRST!**"
     ]
    },
    {
     "cell_type": "code",
     "collapsed": false,
     "input": [
      "# ============================================= IMPORTS\n",
      "\n",
      "import os\n",
      "\n",
      "from lxml import html, etree\n",
      "\n",
      "from IPython import display as dsp\n",
      "\n",
      "import json\n",
      "\n",
      "from zipfile import ZipFile, ZIP_DEFLATED\n",
      "from gzip import GzipFile\n",
      "\n",
      "\n",
      "# ============================================= CONSTANTS: DEFAULT PATHS & FILES\n",
      "\n",
      "URL_PREFIX = \"http://www.drugbank.ca/drugs/\"\n",
      "\n",
      "DATA_DIR = \"data\"\n",
      "\n",
      "data_dir = lambda dir_name: os.path.join(DATA_DIR, dir_name, '')\n",
      "data_file = lambda file_name: os.path.join(DATA_DIR, file_name)\n",
      "\n",
      "FULL_DOCS_DIR     = data_dir(\"full_docs\")\n",
      "FULL_TABLES_DIR   = data_dir(\"full_tables\")\n",
      "CULLED_TABLES_DIR = data_dir(\"culled_tables\")\n",
      "\n",
      "DRUG_TABLES_ZIP   = data_file(\"drugbankca_tables.zip\")\n",
      "\n",
      "# NOT USED ATM...\n",
      "SECTION_NAMES_FILE = data_file(\"drugbank_section_names.txt\")\n",
      "\n",
      "\n",
      "# ============================================= VARIABLES\n",
      "\n",
      "# ID'S, RANGE, MISSING, EXCLUDED >>>\n",
      "\n",
      "drugbank_ids = []\n",
      "min_drug_num, max_drug_num = 0,0\n",
      "missing_idnums = ()\n",
      "excluded_ids = []\n",
      "\n",
      "# UPDATED ON DOC LOADING >>>\n",
      "\n",
      "#doc_src = None # Source of currently loaded doc (web, local, table, culled table)\n",
      "\n",
      "bad_table_id = None # Set in open_drug() if there's a problem opening/extracting\n",
      "\n",
      "drug_doc = drug_table_doc = None # ETree of doc & extracted table\n",
      "drug_id = drug_doc_id = '' # ID requested/extracted (may differ because of redirect)\n",
      "\n",
      "is_redirected = False # True if drug_id != drug_doc_id, ie, requested != loaded\n",
      "redirect_count = 0\n",
      "\n",
      "drug_name = ''\n",
      "\n",
      "table_classes = []\n",
      "table_ids = [] # Not used atm\n",
      "\n",
      "table_sections = {}\n",
      "table_section_paths = []\n",
      "\n",
      "table_backrefs = [] # Secondary Accession Numbers. Not used atm\n",
      "\n",
      "# COMPUTED/ COLLECTED FOR FULL SET OF TABLES >>>\n",
      "\n",
      "groups = []\n",
      "excluded_groups = []\n",
      "\n",
      "redirected_count = 0\n",
      "redirects = []\n",
      "\n",
      "name_id_map = []\n",
      "\n",
      "# TO BE PROVIDED BY USER\n",
      "\n",
      "cull_list = []\n",
      "cust_cull_func = None\n",
      "\n",
      "# ============================================= FUNCTIONS: ID LIST: CREATE/LOAD/ANALYSE\n",
      "\n",
      "def load_str_list(fpath):\n",
      "    try:\n",
      "        with open(fpath, 'rbU') as f:\n",
      "            return True, f.read().splitlines()\n",
      "    except:\n",
      "        return False, []\n",
      "    \n",
      "def load_id_list(fpath):\n",
      "    global drugbank_ids\n",
      "    r, drugbank_ids = load_str_list(fpath)\n",
      "    if not r:\n",
      "        print \"ERROR: Failed to get list of Drugbank ID's from: \" + fpath\n",
      "    return r\n",
      "\n",
      "def create_id_list_from_file_list(fpath):\n",
      "    global drugbank_ids\n",
      "    try:\n",
      "        drugbank_ids = os.listdir(fpath)\n",
      "    except:\n",
      "        print \"ERROR: Failed to get list of Drugbank ID's from: \" + fpath\n",
      "        return False\n",
      "    drugbank_ids.sort()\n",
      "    return True\n",
      "\n",
      "def create_id_list_from_full_docs():\n",
      "    return create_id_list_from_file_list(FULL_DOCS_DIR)\n",
      "\n",
      "def create_id_list_from_full_tables():\n",
      "    return create_id_list_from_file_list(FULL_TABLES_DIR)\n",
      "\n",
      "def create_id_list():\n",
      "    if create_id_list_from_full_tables():\n",
      "        print \"ID List Source: full tables\"\n",
      "        return True\n",
      "    \n",
      "    if create_id_list_from_full_docs():\n",
      "        print \"ID List Source: full docs\"\n",
      "        return True\n",
      "        \n",
      "    if load_id_list(\"drugbankca_xml_ids.txt\"):\n",
      "        print \"ID List Source: drugbank_xml_ids.txt\"\n",
      "        return True\n",
      "        \n",
      "    return False\n",
      "    \n",
      "# CREATE ID LIST TEST-SET\n",
      "\n",
      "def use_test_set(number_of_docs=100):\n",
      "    global drugbank_ids\n",
      "    if not drugbank_ids:\n",
      "        print \"ERROR: Empty ID list, cannot create test-set list!\"\n",
      "        return False\n",
      "    drugbank_ids = drugbank_ids[:min(len(drugbank_ids),number_of_docs)]\n",
      "    return True\n",
      "\n",
      "# ID LIST ANALYSIS\n",
      "\n",
      "drug_num = lambda drug_id: int(drug_id[2:])\n",
      "int_to_id = lambda drug_num: 'DB%05i' % drug_num\n",
      "\n",
      "def analyse_id_list():\n",
      "    '''Computes min/max_drug_num and missing_idnums list'''\n",
      "    global min_drug_num, max_drug_num, missing_idnums\n",
      "    \n",
      "    if not drugbank_ids:\n",
      "        print \"ERROR: Empty ID list, cannot analyse!\"\n",
      "        return False\n",
      "    \n",
      "    min_drug_num, max_drug_num = drug_num(drugbank_ids[0]), drug_num(drugbank_ids[-1])\n",
      "    \n",
      "    a = tuple(drug_num(dbid) for dbid in drugbank_ids)\n",
      "    b = range(a[0],a[-1]+1)\n",
      "    missing_ids = tuple(int_to_id(n) for n in tuple(set(b) - set(a)))\n",
      "    \n",
      "    print \"Min/Max: %i/%i\" % (min_drug_num, max_drug_num)\n",
      "    print \"  Pages: %i (potentially)\" % (max_drug_num - min_drug_num + 1)\n",
      "    print \" Actual: %i\" % len(drugbank_ids)\n",
      "    print 'Missing: %i (stored in \"missing_ids\" if needed)' % len(missing_ids)\n",
      "    print\n",
      "    print \"First 10 ID's: \"+','.join(drugbank_ids[:10])\n",
      "\n",
      "    \n",
      "# ============================================= FUNCTIONS: TEST/CONVERT/EXTRACT >>>\n",
      "\n",
      "is_str = lambda s: type(s) == str\n",
      "\n",
      "int_to_id = lambda drug_num: 'DB%05i' % drug_num\n",
      "to_drug_id = lambda drug_num_or_id: drug_num_or_id if is_str(drug_num_or_id) else int_to_id(drug_num_or_id)\n",
      "doc_to_str = lambda doc: etree.tostring(doc, encoding='utf8', pretty_print=True)\n",
      "\n",
      "def str_to_list(s):\n",
      "    '''Splits comma/comma-space separated str into list'''\n",
      "    return s.strip().replace(', ',',').split(',')\n",
      "\n",
      "def str_list_terms(list_of_str):\n",
      "    '''Complete set of terms from each str in list'''\n",
      "    terms = set()\n",
      "    for s in list_of_str:\n",
      "        terms.update(str_to_list(s))\n",
      "    return terms\n",
      "        \n",
      "#extract_doc_id = lambda doc: doc.base[-7:]\n",
      "\n",
      "extract_table = lambda doc: doc.find('.//table[@class=\"drug-table data-table table table-condensed table-bordered\"]')\n",
      "\n",
      "def extract_table_sections(doc=None):\n",
      "    global table_sections\n",
      "    global table_section_paths\n",
      "    \n",
      "    doc = doc if doc else drug_table_doc\n",
      "    \n",
      "    table_sections = {}\n",
      "    table_section_paths = []\n",
      "    section_name = subsection_name = ''\n",
      "    \n",
      "    for e in doc[0].iterchildren(tag='tr'):\n",
      "        #table_sections.append(e)\n",
      "        if 'id' in e.attrib:\n",
      "            section_name = e[0].text\n",
      "            table_section_paths.append(section_name)\n",
      "            table_sections[section_name] = e\n",
      "        else:\n",
      "            subsection_name = section_name+'/'+e[0].text\n",
      "            table_section_paths.append(subsection_name)\n",
      "            table_sections[subsection_name] = e\n",
      "        \n",
      "#table_section_lookup = lambda section_name: table_sections[table_section_paths.index(section_name)]\n",
      "\n",
      "extract_name = lambda : table_sections['Identification/Name'].xpath(\"td[1]/strong/text()\")[0]\n",
      "extract_id   = lambda : str(table_sections['Identification/Accession Number'].xpath(\"td[1]/strong/text()\")[0])\n",
      "\n",
      "extract_groups = lambda : str(table_sections['Identification/Groups'].xpath(\"td[1]/text()\")[0])\n",
      "\n",
      "def extract_backrefs(): # acc nums\n",
      "    e = table_sections['Identification/Accession Number']\n",
      "    return e.xpath(\"td[1]/text()\")[0].split('(')[1][:-1].split(', ')\n",
      "\n",
      "#def extract_table_attribs(doc, attrib_name):\n",
      "#    return tuple(sorted(set([child.attrib[attrib_name] for child in doc.iterdescendants() if attrib_name in child.keys()])))\n",
      "\n",
      "\n",
      "# ============================================= FUNCTIONS: DOC LOAD/SAVE >>>\n",
      "\n",
      "# DOC LOADING (USE VARIANT WRAPPERS!) >>>\n",
      "\n",
      "def open_drug(src_path, drug_num_or_id):\n",
      "    \n",
      "    global drug_id\n",
      "    global bad_table_id\n",
      "    global drug_doc_path, drug_doc, drug_table_doc\n",
      "    global table_sections, table_section_paths\n",
      "    global real_doc_id\n",
      "    global drug_doc_id, drug_name, drug_name_id\n",
      "    global drug_groups\n",
      "    global is_redirected # Redirected if id's don't match\n",
      "    #global table_classes, table_ids\n",
      "    #global table_backrefs, table_redirects\n",
      "    \n",
      "    drug_id = to_drug_id(drug_num_or_id) # Will now be in format \"DBnnnnn\"\n",
      "    drug_doc_path = src_path + drug_id\n",
      "    \n",
      "    bad_table_id = drug_id # Cleared at end of function\n",
      "    \n",
      "    try:\n",
      "        drug_doc = html.parse(drug_doc_path).getroot()\n",
      "    except:\n",
      "        if drug_id in drugbank_ids:\n",
      "            print \"ERROR: Not found: \" + drug_doc_path\n",
      "        else:\n",
      "            print \"ERROR: Invalid drug num/id: \" + drug_doc_path\n",
      "        return False\n",
      "        \n",
      "    try:\n",
      "        # Extract the table\n",
      "        drug_table_doc = extract_table(drug_doc)\n",
      "    except:\n",
      "        print \"ERROR ({}): Extracting: {}\".format(drug_id, 'table')\n",
      "        return False\n",
      "        \n",
      "    try:\n",
      "        extract_table_sections()\n",
      "    except:\n",
      "        print \"ERROR ({}): Extracting: {}\".format(drug_id, 'table sections')\n",
      "        return False\n",
      "        \n",
      "    try:\n",
      "        drug_doc_id = extract_id()\n",
      "        # Check ID is the one requested (otherwise it's a redirect)\n",
      "        # There only appears to be four redirected Drugbank ID's so creating copies\n",
      "        is_redirected = drug_doc_id != drug_id\n",
      "        real_doc_id = None\n",
      "        if is_redirected:\n",
      "            # Setting drug_doc_id to drug_id ensures copy\n",
      "            real_doc_id = drug_doc_id\n",
      "            drug_doc_id = drug_id\n",
      "    except:\n",
      "        print \"ERROR ({}): Extracting: {}\".format(drug_id, 'id')\n",
      "        return False\n",
      "\n",
      "    try:\n",
      "        drug_name = extract_name()\n",
      "        drug_name_id = {'drug_name': drug_name, 'drug_id': drug_doc_id} # For mapping name to ID\n",
      "    except:\n",
      "        print \"ERROR ({}): Extracting: {}\".format(drug_id, 'drug name')\n",
      "        return False\n",
      "        \n",
      "    try:\n",
      "        drug_groups = extract_groups()\n",
      "    except:\n",
      "        print \"ERROR ({}): Extracting: {}\".format(drug_id, 'groups')\n",
      "        return False\n",
      "        \n",
      "        \n",
      "        # Extract classes, id's (not used atm)\n",
      "        #table_classes = extract_table_attribs(drug_table_doc, 'class')\n",
      "        #table_ids = extract_table_attribs(drug_table_doc, 'id')\n",
      "        \n",
      "        # Backrefs are Secondary Accession Numbers. Requests for these are redirected to this doc.\n",
      "        #table_backrefs = extract_table_backrefs(drug_table_doc)\n",
      "        #table_redirects = [(i,drug_doc_id) for i in table_backrefs]\n",
      "\n",
      "    bad_table_id = None # No problem if this point reached\n",
      "    return True\n",
      "    \n",
      "def open_page(drug_num_or_id): \n",
      "    return open_drug(URL_PREFIX, drug_num_or_id)\n",
      "\n",
      "def open_full_doc(drug_num_or_id): \n",
      "    return open_drug(FULL_DOCS_DIR, drug_num_or_id)\n",
      "\n",
      "def open_full_table(drug_num_or_id): \n",
      "    return open_drug(FULL_TABLES_DIR, drug_num_or_id)\n",
      "\n",
      "def open_culled_table(drug_num_or_id): \n",
      "    return open_drug(CULLED_TABLES_DIR, drug_num_or_id)\n",
      "\n",
      "\n",
      "# DOC SAVING (USE VARIANT WRAPPERS!) >>>\n",
      "    \n",
      "def save_drug(dst_path, src_doc, drug_num_or_id=None):\n",
      "    src_doc = drug_doc if not src_doc else src_doc\n",
      "    did = to_drug_id(drug_num_or_id) if drug_num_or_id else drug_id\n",
      "    doc_path = dst_path + did\n",
      "    et = etree.ElementTree(src_doc)\n",
      "    et.write(doc_path, method=\"html\", pretty_print=False)\n",
      "\n",
      "def save_page(drug_num_or_id=None):\n",
      "    save_drug(FULL_DOCS_DIR, drug_doc, drug_doc_id)\n",
      "    \n",
      "def save_full_table(drug_num_or_id=None):\n",
      "    did = drug_num_or_id if drug_num_or_id else drug_doc_id\n",
      "    save_drug(FULL_TABLES_DIR, drug_table_doc, did)\n",
      "\n",
      "def save_culled_table(drug_num_or_id=None):\n",
      "    did = drug_num_or_id if drug_num_or_id else drug_doc_id\n",
      "    save_drug(CULLED_TABLES_DIR, drug_table_doc, did)\n",
      "\n",
      "\n",
      "# ============================================= FUNCTIONS: DOC VIEWING >>>\n",
      "\n",
      "def view_doc(doc=None):\n",
      "    doc = doc if doc else drug_table_doc\n",
      "    dsp.display_html(dsp.HTML(doc_to_str(doc)))\n",
      "\n",
      "def view_src(doc=None):\n",
      "    doc = doc if doc else drug_table_doc\n",
      "    #print etree.tostring(doc, method='html', pretty_print=True)\n",
      "    print doc_to_str(doc)\n",
      "\n",
      "    \n",
      "# ============================================= FUNCTIONS: PROGRESS FEEDBACK >>>\n",
      "\n",
      "def display_count(c=None):\n",
      "    if c:\n",
      "        dsp.clear_output(wait=True)\n",
      "        dsp.display(c)\n",
      "    else:\n",
      "        dsp.clear_output()\n",
      "        \n",
      "# ============================================= GENERATOR: FULL TABLES >>>\n",
      "\n",
      "def drug_tables(limit=None, feedback=True):\n",
      "    ids = drugbank_ids if not limit else drugbank_ids[:limit]\n",
      "    total = len(ids)\n",
      "    for i,drug_id in enumerate(ids):\n",
      "        if feedback: display_count(total-i)\n",
      "        open_full_table(drug_id)\n",
      "        yield drug_id\n",
      "    if feedback: display_count()\n",
      "        \n",
      "        \n",
      "# ============================================= FUNCTIONS: GROUP CULLING >>>\n",
      "\n",
      "def collect_group_terms():\n",
      "    global groups, group_terms\n",
      "\n",
      "    groups = set()\n",
      "    for drug_id in drug_tables():\n",
      "        groups.add(drug_groups)\n",
      "    group_terms = str_list_terms(groups)\n",
      "    \n",
      "\n",
      "# ============================================= FUNCTIONS: SECTION CULLING >>>\n",
      "\n",
      "def print_section_paths():\n",
      "    for i,spath in enumerate(table_section_paths):\n",
      "       print i,spath\n",
      "        \n",
      "def expand_section(spath):\n",
      "    idxs = []\n",
      "    #if spath in table_section_paths:\n",
      "    idx = table_section_paths.index(spath)\n",
      "    idxs.append(idx)\n",
      "    idx += 1\n",
      "    for i, spath in enumerate(table_section_paths[idx:]):\n",
      "        if '/' not in spath: break\n",
      "        idxs.append(idx+i)\n",
      "    return idxs\n",
      "\n",
      "def cull_sections(cull_list):\n",
      "    '''\n",
      "    Deletes table sections/subsections. Only handles first & second level sections! \n",
      "    List entries should be of either form \"title\" or \"title/title\"\n",
      "        - single title: remove header row and all rows to the next section\n",
      "        - two titles: remove row\n",
      "    Any deeper structures require custom code.\n",
      "    '''\n",
      "    \n",
      "    # Sections have to be expanded to include subsection rows!\n",
      "        \n",
      "    idxs = []\n",
      "    for spath in cull_list:\n",
      "        if spath in table_section_paths:\n",
      "            if '/' in spath:\n",
      "                idxs.append(table_section_paths.index(spath))\n",
      "            else:\n",
      "                idxs.extend(expand_section(spath))\n",
      "    idxs.sort(reverse=True)\n",
      "    \n",
      "    for i in idxs:\n",
      "        e = table_sections[table_section_paths[i]]\n",
      "        #print i, table_section_paths[i]#, e[0].text\n",
      "        e.drop_tree()\n",
      "        \n",
      "    if custom_cull_func: custom_cull_func()\n",
      "    \n",
      "    \n",
      "def cull_tables(feedback=True):\n",
      "    for drug_id in drug_tables(feedback=feedback):\n",
      "        cull_sections(cull_list)\n",
      "        save_culled_table()\n",
      "\n",
      "\n",
      "# ============================================= FUNCTIONS: DATA: SAVE/LOAD >>>\n",
      "\n",
      "def save_str_list(file_name, src_list):\n",
      "    if src_list:\n",
      "        with open(file_name, 'wb') as f:\n",
      "            # WIP: Cater for tuples. Save as CSV? Quick hack (not for fixtures!)...\n",
      "            if type(src_list[0]) is tuple:\n",
      "                src_list = [str(t)[1:-1] for t in src_list]\n",
      "            f.write(\"\\n\".join(src_list))\n",
      "        \n",
      "def save_ids(file_name=None): \n",
      "    file_name = file_name if file_name else \"drugbank_ids.txt\"\n",
      "    save_str_list(file_name, drugbank_ids)\n",
      "\n",
      "# ============================================= FUNCTIONS: FIXTURES >>>\n",
      "\n",
      "# Only one fixture from this version: name_id_map:\n",
      "# - Model: (user specified)\n",
      "# - ID: drug_name\n",
      "# - Fields: drug_name, drug_id\n",
      "\n",
      "def add_json(model, pk, fields, json_list):\n",
      "    \"\"\"Append a new data chunk.\"\"\"\n",
      "    json_list.append({\n",
      "         'model': model,\n",
      "            'pk': pk,\n",
      "        'fields': fields\n",
      "    })\n",
      "\n",
      "def create_lookup_fixture(app_model):\n",
      "    fixture = []\n",
      "    for name_id in name_id_map:\n",
      "        add_json(app_model, name_id['drug_name'], name_id, fixture)\n",
      "        \n",
      "    model_name = app_model.split('.')[-1]\n",
      "    fixture_json    = data_file(model_name + \".json\")\n",
      "    fixture_json_gz = data_file(model_name + \".json.gz\")\n",
      "    \n",
      "    with file(fixture_json, 'wb') as f:\n",
      "        f.write(json.dumps(fixture, indent=4))\n",
      "    print \"Saved: \",fixture_json\n",
      "        \n",
      "    # gzip it\n",
      "    with file(fixture_json, 'rb') as f:\n",
      "        z = GzipFile(fixture_json_gz, 'wb')\n",
      "        z.write(f.read())\n",
      "        z.close()\n",
      "    print \"Saved: \",fixture_json_gz\n",
      "    \n",
      "# ============================================= FUNCTIONS: ZIP DRUG TABLES >>>\n",
      "\n",
      "def create_drug_table_zip():\n",
      "    z = ZipFile(DRUG_TABLES_ZIP, 'w', ZIP_DEFLATED)\n",
      "\n",
      "    prev_dir = os.getcwd()\n",
      "    os.chdir(CULLED_TABLES_DIR)\n",
      "\n",
      "    for did in drugbank_ids:\n",
      "        dsp.clear_output(wait=True)\n",
      "        dsp.display(did)\n",
      "        z.write(did)\n",
      "\n",
      "    os.chdir(prev_dir)\n",
      "    z.close()\n",
      "    print \"Saved: \",DRUG_TABLES_ZIP\n",
      "\n",
      "def read_drug_table_from_zip(drug_num_or_id):\n",
      "    did = to_drug_id(drug_num_or_id)\n",
      "    \n",
      "    try:\n",
      "        z = ZipFile(DRUG_TABLES_ZIP)\n",
      "        f = z.open(did)\n",
      "        s = f.read()\n",
      "        f.close()\n",
      "        z.close()\n",
      "        return s\n",
      "    except:\n",
      "        return \"\"\n",
      "    "
     ],
     "language": "python",
     "metadata": {},
     "outputs": []
    }
   ],
   "metadata": {}
  }
 ]
}