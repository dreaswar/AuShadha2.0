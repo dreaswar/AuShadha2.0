{
 "metadata": {
  "name": "",
  "signature": "sha256:ae9f3067360a3ef0bd2388ee9837ca787fc47f9f0d2b81115d3dd11db7effc47"
 },
 "nbformat": 3,
 "nbformat_minor": 0,
 "worksheets": [
  {
   "cells": [
    {
     "cell_type": "code",
     "collapsed": false,
     "input": [
      "\"\"\"\n",
      "  Web Scraper written for VIS from CDC\n",
      "\"\"\"\n",
      "\n",
      "import requests\n",
      "import bs4\n",
      "import json\n",
      "import os\n",
      "\n",
      "ROOT_URL = 'http://www.cdc.gov'\n",
      "response = requests.get(ROOT_URL+ '/vaccines/hcp/vis/')\n",
      "vis_page = response.text\n",
      "page = bs4.BeautifulSoup(vis_page)\n",
      "\n",
      "#vis_div = page.select('div.subc')\n",
      "#all_vaccine_links = [a.attrs.get('href') for a in page.select('div.subc ul li a')]\n",
      "\n",
      "def _build_links():\n",
      "    data = []\n",
      "    for a in page.select('div.subc ul li a'):\n",
      "        data.append({'url': ROOT_URL + a.attrs.get('href'),\n",
      "                     'vaccine': a.get_text(),             \n",
      "                     })\n",
      "    return data\n",
      "\n",
      "\n",
      "def _follow_links():\n",
      "    data = []\n",
      "    v_data = _build_links()\n",
      "    for v in v_data:\n",
      "        try:\n",
      "            _vis_page = requests.get(v['url']).text\n",
      "            _page = bs4.BeautifulSoup(_vis_page)\n",
      "            print(\"Getting page for \"+ v['vaccine'])\n",
      "            html = ''\n",
      "            for p in _page.select('div.back-to-section'):\n",
      "                html += '<br>'+p.prettify()\n",
      "            data.append({'vaccine': v['vaccine'],\n",
      "                         'div_list': html \n",
      "                        })\n",
      "        except(Exception) as e:\n",
      "            print(\"Unknown Error!!\")\n",
      "            print(e) \n",
      "            print(\"Continuing with Others...\")\n",
      "            continue\n",
      "    return data\n",
      "\n",
      "def raw_data():\n",
      "    return _follow_links()\n",
      "\n",
      "def to_json():\n",
      "    return json.dumps(_follow_links(),indent=4)\n",
      "\n",
      "def dump_to_file():\n",
      "    CUR_DIR = os.path.curdir\n",
      "    ROOT_FILE_PATH = os.path.abspath(CUR_DIR + '/data/vis-scraper')\n",
      "    for _d in raw_data():\n",
      "        #_v = '_'.join(_d['vaccine'].split(' ')).lower()\n",
      "        print(\"Creating a file for Vaccine..\")\n",
      "        print(_d['vaccine'])\n",
      "        _v = ' '.join(_d['vaccine'].split('/')).lower()\n",
      "        FILE_NAME = ROOT_FILE_PATH + \"/\"+_v + '.html'\n",
      "        with open(FILE_NAME,'a') as d:\n",
      "           if isinstance(_d['div_list'],basestring):\n",
      "              if not isinstance(_d['div_list'],unicode):\n",
      "                  _d['div_list'] = unicode(_d['div_list'],'utf-8')\n",
      "           d.write(_d['div_list'].encode('utf-8'))\n",
      "           d.close()\n",
      "\n",
      "#vis_json = to_json()\n",
      "#print(vis_json)\n",
      "\n",
      "#vis = raw_data()\n",
      "#print(vis)\n",
      "\n",
      "dump_to_file()\n"
     ],
     "language": "python",
     "metadata": {},
     "outputs": [
      {
       "output_type": "stream",
       "stream": "stdout",
       "text": [
        "Getting page for Multiple Vaccines (DTaP, IPV, Hib, PCV, Hepatitis B, and Rotavirus)\n",
        "Getting page for DTaP"
       ]
      },
      {
       "output_type": "stream",
       "stream": "stdout",
       "text": [
        "\n",
        "Getting page for Hepatitis A"
       ]
      },
      {
       "output_type": "stream",
       "stream": "stdout",
       "text": [
        "\n",
        "Getting page for Hepatitis B"
       ]
      },
      {
       "output_type": "stream",
       "stream": "stdout",
       "text": [
        "\n",
        "Getting page for Hib (Haemophilus Influenzae type b)"
       ]
      },
      {
       "output_type": "stream",
       "stream": "stdout",
       "text": [
        "\n",
        "Getting page for HPV - Cervarix"
       ]
      },
      {
       "output_type": "stream",
       "stream": "stdout",
       "text": [
        "\n",
        "Getting page for HPV - Gardasil"
       ]
      },
      {
       "output_type": "stream",
       "stream": "stdout",
       "text": [
        "\n",
        "Getting page for Influenza  - Live, Intranasal"
       ]
      },
      {
       "output_type": "stream",
       "stream": "stdout",
       "text": [
        "\n",
        "Getting page for Influenza  - Inactivated"
       ]
      },
      {
       "output_type": "stream",
       "stream": "stdout",
       "text": [
        "\n",
        "Getting page for Measles/Mumps/Rubella (MMR)"
       ]
      },
      {
       "output_type": "stream",
       "stream": "stdout",
       "text": [
        "\n",
        "Getting page for Measles/Mumps/Rubella & Varicella (MMRV)"
       ]
      },
      {
       "output_type": "stream",
       "stream": "stdout",
       "text": [
        "\n",
        "Getting page for Meningococcal"
       ]
      },
      {
       "output_type": "stream",
       "stream": "stdout",
       "text": [
        "\n",
        "Getting page for Pneumococcal Conjugate (PCV13)"
       ]
      },
      {
       "output_type": "stream",
       "stream": "stdout",
       "text": [
        "\n",
        "Getting page for Pneumococcal Polysaccharide (PPSV23)"
       ]
      },
      {
       "output_type": "stream",
       "stream": "stdout",
       "text": [
        "\n",
        "Getting page for Polio"
       ]
      },
      {
       "output_type": "stream",
       "stream": "stdout",
       "text": [
        "\n",
        "Getting page for Rotavirus"
       ]
      },
      {
       "output_type": "stream",
       "stream": "stdout",
       "text": [
        "\n",
        "Getting page for Shingles (Herpes Zoster)"
       ]
      },
      {
       "output_type": "stream",
       "stream": "stdout",
       "text": [
        "\n",
        "Getting page for Tdap (Tetanus, Diphtheria, Pertussis)"
       ]
      },
      {
       "output_type": "stream",
       "stream": "stdout",
       "text": [
        "\n",
        "Getting page for Td (Tetanus, Diphtheria)"
       ]
      },
      {
       "output_type": "stream",
       "stream": "stdout",
       "text": [
        "\n",
        "Getting page for Varicella (Chickenpox)"
       ]
      },
      {
       "output_type": "stream",
       "stream": "stdout",
       "text": [
        "\n",
        "Getting page for Adenovirus"
       ]
      },
      {
       "output_type": "stream",
       "stream": "stdout",
       "text": [
        "\n",
        "Getting page for Anthrax"
       ]
      },
      {
       "output_type": "stream",
       "stream": "stdout",
       "text": [
        "\n",
        "Getting page for Japanese Encephalitis"
       ]
      },
      {
       "output_type": "stream",
       "stream": "stdout",
       "text": [
        "\n",
        "Getting page for Rabies"
       ]
      },
      {
       "output_type": "stream",
       "stream": "stdout",
       "text": [
        "\n",
        "Unknown Error!!"
       ]
      },
      {
       "output_type": "stream",
       "stream": "stdout",
       "text": [
        "\n",
        "HTTPConnectionPool(host='www.cdc.govhttp', port=80): Max retries exceeded with url: //emergency.cdc.gov/agent/smallpox/vaccination/pdf/ACAM2000MedicationGuide-31Aug2007.pdf (Caused by <class 'socket.gaierror'>: [Errno -2] Name or service not known)\n",
        "Continuing with Others...\n",
        "Getting page for Typhoid"
       ]
      },
      {
       "output_type": "stream",
       "stream": "stdout",
       "text": [
        "\n",
        "Getting page for Yellow Fever"
       ]
      },
      {
       "output_type": "stream",
       "stream": "stdout",
       "text": [
        "\n",
        "Getting page for Influenza VISs Coming Soon"
       ]
      },
      {
       "output_type": "stream",
       "stream": "stdout",
       "text": [
        "\n",
        "Getting page for Updated VIS for Adenovirus"
       ]
      },
      {
       "output_type": "stream",
       "stream": "stdout",
       "text": [
        "\n",
        "Getting page for Multi-Vaccine VIS currently being revised"
       ]
      },
      {
       "output_type": "stream",
       "stream": "stdout",
       "text": [
        "\n",
        "Getting page for Instructions for the Use of VISs"
       ]
      },
      {
       "output_type": "stream",
       "stream": "stdout",
       "text": [
        "\n",
        "Getting page for Facts About VISs"
       ]
      },
      {
       "output_type": "stream",
       "stream": "stdout",
       "text": [
        "\n",
        "Getting page for Frequently Asked Questions\r\n"
       ]
      },
      {
       "output_type": "stream",
       "stream": "stdout",
       "text": [
        "\n",
        "Unknown Error!!"
       ]
      },
      {
       "output_type": "stream",
       "stream": "stdout",
       "text": [
        "\n",
        "HTTPConnectionPool(host='www.cdc.govhttp', port=80): Max retries exceeded with url: //www.immunize.org/vis/ (Caused by <class 'socket.gaierror'>: [Errno -2] Name or service not known)\n",
        "Continuing with Others...\n",
        "Creating a file for Vaccine..\n",
        "Multiple Vaccines (DTaP, IPV, Hib, PCV, Hepatitis B, and Rotavirus)\n",
        "Creating a file for Vaccine..\n",
        "DTaP\n",
        "Creating a file for Vaccine..\n",
        "Hepatitis A\n",
        "Creating a file for Vaccine..\n",
        "Hepatitis B\n",
        "Creating a file for Vaccine..\n",
        "Hib (Haemophilus Influenzae type b)\n",
        "Creating a file for Vaccine..\n",
        "HPV - Cervarix\n",
        "Creating a file for Vaccine..\n",
        "HPV - Gardasil\n",
        "Creating a file for Vaccine..\n",
        "Influenza  - Live, Intranasal\n",
        "Creating a file for Vaccine..\n",
        "Influenza  - Inactivated\n",
        "Creating a file for Vaccine..\n",
        "Measles/Mumps/Rubella (MMR)\n",
        "Creating a file for Vaccine..\n",
        "Measles/Mumps/Rubella & Varicella (MMRV)\n",
        "Creating a file for Vaccine..\n",
        "Meningococcal\n",
        "Creating a file for Vaccine..\n",
        "Pneumococcal Conjugate (PCV13)\n",
        "Creating a file for Vaccine..\n",
        "Pneumococcal Polysaccharide (PPSV23)\n",
        "Creating a file for Vaccine..\n",
        "Polio\n",
        "Creating a file for Vaccine..\n",
        "Rotavirus\n",
        "Creating a file for Vaccine..\n",
        "Shingles (Herpes Zoster)\n",
        "Creating a file for Vaccine..\n",
        "Tdap (Tetanus, Diphtheria, Pertussis)\n",
        "Creating a file for Vaccine..\n",
        "Td (Tetanus, Diphtheria)\n",
        "Creating a file for Vaccine..\n",
        "Varicella (Chickenpox)\n",
        "Creating a file for Vaccine..\n",
        "Adenovirus\n",
        "Creating a file for Vaccine..\n",
        "Anthrax\n",
        "Creating a file for Vaccine..\n",
        "Japanese Encephalitis\n",
        "Creating a file for Vaccine..\n",
        "Rabies\n",
        "Creating a file for Vaccine..\n",
        "Typhoid\n",
        "Creating a file for Vaccine..\n",
        "Yellow Fever\n",
        "Creating a file for Vaccine..\n",
        "Influenza VISs Coming Soon\n",
        "Creating a file for Vaccine..\n",
        "Updated VIS for Adenovirus\n",
        "Creating a file for Vaccine..\n",
        "Multi-Vaccine VIS currently being revised\n",
        "Creating a file for Vaccine..\n",
        "Instructions for the Use of VISs\n",
        "Creating a file for Vaccine..\n",
        "Facts About VISs\n",
        "Creating a file for Vaccine..\n",
        "Frequently Asked Questions\r\n",
        "\n"
       ]
      }
     ],
     "prompt_number": 42
    },
    {
     "cell_type": "code",
     "collapsed": false,
     "input": [],
     "language": "python",
     "metadata": {},
     "outputs": []
    },
    {
     "cell_type": "code",
     "collapsed": false,
     "input": [],
     "language": "python",
     "metadata": {},
     "outputs": [],
     "prompt_number": 42
    },
    {
     "cell_type": "code",
     "collapsed": false,
     "input": [],
     "language": "python",
     "metadata": {},
     "outputs": []
    }
   ],
   "metadata": {}
  }
 ]
}